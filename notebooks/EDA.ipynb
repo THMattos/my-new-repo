{
 "cells": [
  {
   "cell_type": "code",
   "execution_count": null,
   "metadata": {},
   "outputs": [],
   "source": []
  }
 ],
 "metadata": {
  "kernelspec": {
   "display_name": "Python 3",
   "language": "python",
   "name": "python3"
  },
  "language_info": {
   "name": "python",
   "version": "3.12.0 (tags/v3.12.0:0fb18b0, Oct  2 2023, 13:03:39) [MSC v.1935 64 bit (AMD64)]"
  },
  "orig_nbformat": 4,
  "vscode": {
   "interpreter": {
    "hash": "011b0377471e3bd4281c31f586d9a5da5e5d06d366c19a278e4954edebf632f6"
   }
  }
 },
 "nbformat": 4,
 "nbformat_minor": 2
}
